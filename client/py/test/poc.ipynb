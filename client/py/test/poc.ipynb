{
 "cells": [
  {
   "cell_type": "markdown",
   "id": "d397d811",
   "metadata": {},
   "source": [
    "# Setup\n",
    "\n",
    "1. Run the search worker inside Docker\n",
    "```shell\n",
    "docker run --name search-worker-test -p 8080:8080 -v ./index:/mounted_store/index hakes-searchworker:v1\n",
    "```\n",
    "2. Run MongoDB inside Docker\n",
    "```shell\n",
    "docker run -d -p 27017:27017 --name mongo-test mongo\n",
    "```\n",
    "3. Configure environment variables\n",
    "```shell\n",
    "export SEARCH_WORKER_ADDR=http://host:port\n",
    "export MONGO_ADDR=mongodb://host:port\n",
    "export HF_API_KEY=api_key\n",
    "```"
   ]
  },
  {
   "cell_type": "code",
   "execution_count": null,
   "id": "d7396b65",
   "metadata": {},
   "outputs": [],
   "source": [
    "import os\n",
    "import sys\n",
    "sys.path.append('..')\n",
    "sys.path.append('../../../python/')\n",
    "\n",
    "import numpy as np\n",
    "import random\n",
    "import torch\n",
    "from hakesclient import Client, ClientConfig\n",
    "from hakesclient.components.store import Store\n",
    "from hakesclient.components.embedder import Embedder\n",
    "from hakesclient.extensions.mongodb import MongoDB\n",
    "from hakesclient.extensions.huggingface import HuggingFaceEmbedder\n",
    "from hakes.index.build import init_hakes_params, build_dataset, train_hakes_params, recenter_ivf\n",
    "\n",
    "INDEX_DIR = \"../../../index/\"\n",
    "COLLECTION_NAME = \"poc\""
   ]
  },
  {
   "cell_type": "markdown",
   "id": "1f7759c0",
   "metadata": {},
   "source": [
    "# Init index\n",
    "\n",
    "When calling `load_collection` in the search worker, a missing index file will cause a `checkpoint not found error`. Therefore, the initial index file must be created manually.\n",
    "\n",
    "> NOTE: Calling `load_collection` twice in the search worker can cause the container to terminate unexpectedly."
   ]
  },
  {
   "cell_type": "code",
   "execution_count": 13,
   "id": "b6c17119",
   "metadata": {},
   "outputs": [],
   "source": [
    "def init_index(collection_name):\n",
    "    os.makedirs(os.path.join(INDEX_DIR, COLLECTION_NAME), exist_ok=True)\n",
    "    os.makedirs(os.path.join(INDEX_DIR, COLLECTION_NAME, 'checkpoint_0'), exist_ok=True)\n",
    "    dir = os.path.join(INDEX_DIR, collection_name, 'checkpoint_0')\n",
    "\n",
    "    seed = 0\n",
    "    random.seed(seed)\n",
    "    np.random.seed(seed)\n",
    "    torch.manual_seed(seed)\n",
    "    data = np.random.randn(10000, 768).astype(np.float32)\n",
    "    data = data / np.linalg.norm(data, axis=1, keepdims=True)\n",
    "\n",
    "    index = init_hakes_params(data, 384, 100, \"ip\")\n",
    "    index.set_fixed_assignment(True)\n",
    "    index.save_as_hakes_index(os.path.join(dir, \"findex.bin\"))\n",
    "    sample_ratio = 0.1\n",
    "    dataset = build_dataset(data, sample_ratio=sample_ratio, nn=50)\n",
    "    train_hakes_params(\n",
    "        model=index,\n",
    "        dataset=dataset,\n",
    "        epochs=3,\n",
    "        batch_size=128,\n",
    "        lr_params={\"vt\": 1e-4, \"pq\": 1e-4, \"ivf\": 0},\n",
    "        loss_weight={\n",
    "            \"vt\": \"rescale\",\n",
    "            \"pq\": 1,\n",
    "            \"ivf\": 0,\n",
    "        },\n",
    "        temperature=1,\n",
    "        loss_method=\"hakes\",\n",
    "        device=\"cpu\",\n",
    "    )\n",
    "    recenter_ivf(index, data, sample_ratio)\n",
    "    index.save_as_hakes_index(os.path.join(dir, \"uindex.bin\"))\n",
    "\n",
    "# init index if index checkpoint files of specified collection not exist\n",
    "if not (os.path.isdir(os.path.join(INDEX_DIR, COLLECTION_NAME)) and any(os.scandir(os.path.join(INDEX_DIR, COLLECTION_NAME)))):\n",
    "    init_index(COLLECTION_NAME)"
   ]
  },
  {
   "cell_type": "markdown",
   "id": "0560ba12",
   "metadata": {},
   "source": [
    "# Build clients\n"
   ]
  },
  {
   "cell_type": "code",
   "execution_count": 14,
   "id": "1a94bf8b",
   "metadata": {},
   "outputs": [],
   "source": [
    "config = ClientConfig(search_worker_addrs=[os.getenv(\"SEARCH_WORKER_ADDR\")])\n",
    "client = Client(config)\n",
    "store: Store = MongoDB(os.getenv('MONGO_ADDR'), \"hakes\", COLLECTION_NAME)\n",
    "embedder: Embedder = HuggingFaceEmbedder(os.getenv('HF_API_KEY'), 'google/embeddinggemma-300m')"
   ]
  },
  {
   "cell_type": "markdown",
   "id": "87f845f3",
   "metadata": {},
   "source": [
    "# Add doc"
   ]
  },
  {
   "cell_type": "code",
   "execution_count": 15,
   "id": "e36dfd4b",
   "metadata": {},
   "outputs": [
    {
     "data": {
      "text/plain": [
       "{'msg': 'checkpoint success', 'status': True}"
      ]
     },
     "execution_count": 15,
     "metadata": {},
     "output_type": "execute_result"
    }
   ],
   "source": [
    "doc = {\n",
    "        'key': 'doc1',\n",
    "        'value': '高血压病人可以口服党参的。党参有降血脂，降血压的作用，可以彻底消除血液中的垃圾，从而对冠心病以及心血管疾病的患者都有一定的稳定预防工作作用，因此平时口服党参能远离三高的危害。另外党参除了益气养血，降低中枢神经作用，调整消化系统功能，健脾补肺的功能。'\n",
    "    }\n",
    "\n",
    "# add doc to store and return xid\n",
    "success, xids = store.put([doc['key']], [doc['value']], None)\n",
    "if not success:\n",
    "    raise RuntimeError(\"Failed to add document to the store\")\n",
    "xids = [int.from_bytes(xid, \"big\", signed=True) for xid in xids]\n",
    "# embed doc\n",
    "vector = embedder.embed_text([doc['value']])\n",
    "# add vector to index with xid\n",
    "client.add(COLLECTION_NAME, vector, xids)\n",
    "# test checkpoint function\n",
    "client.checkpoint(COLLECTION_NAME)"
   ]
  },
  {
   "cell_type": "markdown",
   "id": "46e05aac",
   "metadata": {},
   "source": [
    "# Search"
   ]
  },
  {
   "cell_type": "code",
   "execution_count": 16,
   "id": "458fae7f",
   "metadata": {},
   "outputs": [
    {
     "name": "stdout",
     "output_type": "stream",
     "text": [
      "(1, 768)\n",
      "search result: {'ids': [[24, 23, 22, 21, 20, 19, 18, 17, 16, 15, 14, 13, -1, -1, -1]], 'msg': 'search success', 'scores': [[0.27845263481140137, 0.27845263481140137, 0.27845263481140137, 0.27845263481140137, 0.27845263481140137, 0.27845263481140137, 0.27845263481140137, 0.27845263481140137, 0.27845263481140137, 0.27845263481140137, 0.27845263481140137, 0.27845263481140137, -0.6673946976661682, -0.6673946976661682, -0.6673946976661682]], 'status': True}\n",
      "(1, 768)\n",
      "根据以下内容，简要回答用户的问题。\n",
      "\n",
      "内容2：高血压病人可以口服党参的。党参有降血脂，降血压的作用，可以彻底消除血液中的垃圾，从而对冠心病以及心血管疾病的患者都有一定的稳定预防工作作用，因此平时口服党参能远离三高的危害。另外党参除了益气养血，降低中枢神经作用，调整消化系统功能，健脾补肺的功能。\n",
      "\n",
      "用户的问题：我有高血压这两天女婿来的时候给我拿了些党参泡水喝，您好高血压可以吃党参吗？\n",
      "简要回答：\n"
     ]
    }
   ],
   "source": [
    "question = \"我有高血压这两天女婿来的时候给我拿了些党参泡水喝，您好高血压可以吃党参吗？\"\n",
    "question_vector = embedder.embed_text([question])\n",
    "\n",
    "xids = client.search(COLLECTION_NAME, question_vector, 3, 20, 5, \"IP\")['ids'][0]\n",
    "xids = [x.to_bytes(8, \"big\", signed=True) for x in xids]\n",
    "doc = store.get_by_ids(xids)\n",
    "\n",
    "# generate prompt\n",
    "prompt = f\"根据以下内容，简要回答用户的问题。\\n\\n\"\n",
    "for i, d in enumerate(doc):\n",
    "    if not d:\n",
    "        continue\n",
    "    prompt += f\"内容{i+1}：{d}\\n\\n\"\n",
    "prompt += f\"用户的问题：{question}\\n简要回答：\"\n",
    "\n",
    "print(prompt)"
   ]
  }
 ],
 "metadata": {
  "kernelspec": {
   "display_name": "hakes",
   "language": "python",
   "name": "python3"
  },
  "language_info": {
   "codemirror_mode": {
    "name": "ipython",
    "version": 3
   },
   "file_extension": ".py",
   "mimetype": "text/x-python",
   "name": "python",
   "nbconvert_exporter": "python",
   "pygments_lexer": "ipython3",
   "version": "3.11.13"
  }
 },
 "nbformat": 4,
 "nbformat_minor": 5
}
